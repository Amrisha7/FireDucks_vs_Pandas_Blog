{
  "cells": [
    {
      "cell_type": "markdown",
      "metadata": {
        "id": "FM9OICzO7Sba"
      },
      "source": [
        "# FireDucks vs Pandas: Benchmarking for Large-Scale Data Processing"
      ],
      "id": "FM9OICzO7Sba"
    },
    {
      "cell_type": "code",
      "execution_count": null,
      "metadata": {
        "id": "MqzgMGaI7Sbf"
      },
      "outputs": [],
      "source": [
        "import fireducks.pandas as fd\n",
        "import pandas as pd\n",
        "import numpy as np\n",
        "import time"
      ],
      "id": "MqzgMGaI7Sbf"
    },
    {
      "cell_type": "code",
      "source": [
        "!pip install fireducks\n",
        "\n"
      ],
      "metadata": {
        "colab": {
          "base_uri": "https://localhost:8080/"
        },
        "id": "ejKdo1TQ7jFo",
        "outputId": "a5b03190-756b-44b0-c707-ab48c62e6531"
      },
      "id": "ejKdo1TQ7jFo",
      "execution_count": null,
      "outputs": [
        {
          "output_type": "stream",
          "name": "stdout",
          "text": [
            "Collecting fireducks\n",
            "  Downloading fireducks-1.2.6-cp311-cp311-manylinux_2_28_x86_64.whl.metadata (1.0 kB)\n",
            "Collecting firefw==1.2.6 (from fireducks)\n",
            "  Downloading firefw-1.2.6-py3-none-any.whl.metadata (818 bytes)\n",
            "Requirement already satisfied: pandas<2.3.0,>=1.5.3 in /usr/local/lib/python3.11/dist-packages (from fireducks) (2.2.2)\n",
            "Collecting pyarrow<19.1,>=19.0 (from fireducks)\n",
            "  Downloading pyarrow-19.0.1-cp311-cp311-manylinux_2_28_x86_64.whl.metadata (3.3 kB)\n",
            "Requirement already satisfied: numpy>=1.23.2 in /usr/local/lib/python3.11/dist-packages (from pandas<2.3.0,>=1.5.3->fireducks) (2.0.2)\n",
            "Requirement already satisfied: python-dateutil>=2.8.2 in /usr/local/lib/python3.11/dist-packages (from pandas<2.3.0,>=1.5.3->fireducks) (2.8.2)\n",
            "Requirement already satisfied: pytz>=2020.1 in /usr/local/lib/python3.11/dist-packages (from pandas<2.3.0,>=1.5.3->fireducks) (2025.2)\n",
            "Requirement already satisfied: tzdata>=2022.7 in /usr/local/lib/python3.11/dist-packages (from pandas<2.3.0,>=1.5.3->fireducks) (2025.2)\n",
            "Requirement already satisfied: six>=1.5 in /usr/local/lib/python3.11/dist-packages (from python-dateutil>=2.8.2->pandas<2.3.0,>=1.5.3->fireducks) (1.17.0)\n",
            "Downloading fireducks-1.2.6-cp311-cp311-manylinux_2_28_x86_64.whl (7.4 MB)\n",
            "\u001b[2K   \u001b[90m━━━━━━━━━━━━━━━━━━━━━━━━━━━━━━━━━━━━━━━━\u001b[0m \u001b[32m7.4/7.4 MB\u001b[0m \u001b[31m14.7 MB/s\u001b[0m eta \u001b[36m0:00:00\u001b[0m\n",
            "\u001b[?25hDownloading firefw-1.2.6-py3-none-any.whl (12 kB)\n",
            "Downloading pyarrow-19.0.1-cp311-cp311-manylinux_2_28_x86_64.whl (42.1 MB)\n",
            "\u001b[2K   \u001b[90m━━━━━━━━━━━━━━━━━━━━━━━━━━━━━━━━━━━━━━━━\u001b[0m \u001b[32m42.1/42.1 MB\u001b[0m \u001b[31m20.9 MB/s\u001b[0m eta \u001b[36m0:00:00\u001b[0m\n",
            "\u001b[?25hInstalling collected packages: pyarrow, firefw, fireducks\n",
            "  Attempting uninstall: pyarrow\n",
            "    Found existing installation: pyarrow 18.1.0\n",
            "    Uninstalling pyarrow-18.1.0:\n",
            "      Successfully uninstalled pyarrow-18.1.0\n",
            "Successfully installed fireducks-1.2.6 firefw-1.2.6 pyarrow-19.0.1\n"
          ]
        }
      ]
    },
    {
      "cell_type": "markdown",
      "metadata": {
        "id": "lcXdN3hJ7Sbh"
      },
      "source": [
        "## Load Data using FireDucks"
      ],
      "id": "lcXdN3hJ7Sbh"
    },
    {
      "cell_type": "code",
      "source": [
        "FIREDUCKS_FLAGS = \"--benchmark-mode\""
      ],
      "metadata": {
        "id": "W4CZv_oS81Q0"
      },
      "id": "W4CZv_oS81Q0",
      "execution_count": 7,
      "outputs": []
    },
    {
      "cell_type": "markdown",
      "metadata": {
        "id": "kg_djqOm7Sbh"
      },
      "source": [
        "## Convert to Pandas for Unsupported Operations"
      ],
      "id": "kg_djqOm7Sbh"
    },
    {
      "cell_type": "code",
      "source": [
        "import pandas as pd\n",
        "import numpy as np\n",
        "\n",
        "# Create mock data\n",
        "np.random.seed(42)\n",
        "data = {\n",
        "    \"InvoiceNo\": np.random.randint(10000, 99999, 10000),\n",
        "    \"StockCode\": np.random.choice([\"A100\", \"B200\", \"C300\"], 10000),\n",
        "    \"Description\": np.random.choice([\"Widget\", \"Gadget\", \"Thingy\"], 10000),\n",
        "    \"Quantity\": np.random.randint(1, 50, 10000),\n",
        "    \"InvoiceDate\": pd.date_range(start='2021-01-01', periods=10000, freq='min'),\n",
        "    \"UnitPrice\": np.random.uniform(1.0, 100.0, 10000),\n",
        "    \"CustomerID\": np.random.randint(1000, 2000, 10000),\n",
        "    \"Country\": np.random.choice([\"UK\", \"Germany\", \"France\", \"Spain\"], 10000)\n",
        "}\n",
        "\n",
        "df = pd.DataFrame(data)\n",
        "\n",
        "# Save to CSV\n",
        "df.to_csv(\"/content/fake_data.csv\", index=False)\n",
        "print(\"Fake CSV file created at /content/fake_data.csv 🎉\")\n",
        "\n"
      ],
      "metadata": {
        "colab": {
          "base_uri": "https://localhost:8080/"
        },
        "id": "41Ay-LnQAm3i",
        "outputId": "527232c5-4756-417c-d702-e9e45a42f72b"
      },
      "id": "41Ay-LnQAm3i",
      "execution_count": 10,
      "outputs": [
        {
          "output_type": "stream",
          "name": "stdout",
          "text": [
            "Fake CSV file created at /content/fake_data.csv 🎉\n"
          ]
        }
      ]
    },
    {
      "cell_type": "code",
      "source": [
        "import fireducks as fpd\n",
        "import time\n",
        "\n",
        "path = \"/content/fake_data.csv\"\n",
        "\n",
        "start = time.time()\n",
        "df_fd = fpd.pandas.read_csv(path, encoding=\"ISO-8859-1\")\n",
        "print(\"Data Loaded in\", time.time() - start, \"seconds\")\n",
        "\n",
        "df_fd_pd = df_fd.to_pandas()\n"
      ],
      "metadata": {
        "colab": {
          "base_uri": "https://localhost:8080/"
        },
        "id": "Gm_SNeILAsSE",
        "outputId": "542774cf-1332-4074-8047-59087967a185"
      },
      "id": "Gm_SNeILAsSE",
      "execution_count": 13,
      "outputs": [
        {
          "output_type": "stream",
          "name": "stdout",
          "text": [
            "Data Loaded in 0.026114463806152344 seconds\n"
          ]
        }
      ]
    },
    {
      "cell_type": "code",
      "source": [
        "# Expand Dataset\n",
        "df_fd_pd = pd.concat([df_fd_pd] * 2)\n",
        "\n",
        "# Drop a column\n",
        "df_fd_pd.drop(columns=[\"Description\"], inplace=True)\n",
        "\n",
        "# Sort\n",
        "df_fd_pd = df_fd_pd.sort_values(by=[\"InvoiceDate\"])\n",
        "\n",
        "# Group & Aggregate\n",
        "df_fd_pd_grouped = df_fd_pd.groupby(\"Country\")[\"Quantity\"].sum()\n",
        "\n",
        "# Add Fake Column\n",
        "df_fd_pd[\"FakeColumn\"] = np.random.randint(1, 100, df_fd_pd.shape[0])\n",
        "\n",
        "# String Transformation\n",
        "df_fd_pd[\"InvoiceNo\"] = df_fd_pd[\"InvoiceNo\"].astype(str) + \"_FD\"\n"
      ],
      "metadata": {
        "id": "Mg0jOAOoBXra"
      },
      "id": "Mg0jOAOoBXra",
      "execution_count": 14,
      "outputs": []
    },
    {
      "cell_type": "markdown",
      "metadata": {
        "id": "zEI3wOhP7Sbi"
      },
      "source": [
        "## Dataset Expansion"
      ],
      "id": "zEI3wOhP7Sbi"
    },
    {
      "cell_type": "code",
      "execution_count": 15,
      "metadata": {
        "id": "WTnHqezn7Sbi",
        "colab": {
          "base_uri": "https://localhost:8080/"
        },
        "outputId": "eb46c875-8eff-462c-c4c1-906375ec7813"
      },
      "outputs": [
        {
          "output_type": "stream",
          "name": "stdout",
          "text": [
            "Dataset Expanded in 0.005506038665771484 seconds\n"
          ]
        }
      ],
      "source": [
        "start = time.time()\n",
        "df_fd_pd = pd.concat([df_fd_pd] * 2)\n",
        "print(\"Dataset Expanded in\", time.time() - start, \"seconds\")"
      ],
      "id": "WTnHqezn7Sbi"
    },
    {
      "cell_type": "markdown",
      "metadata": {
        "id": "o4D_R82Z7Sbi"
      },
      "source": [
        "## Dropping Columns"
      ],
      "id": "o4D_R82Z7Sbi"
    },
    {
      "cell_type": "code",
      "source": [
        "print(\"Available columns:\", df_fd_pd.columns.tolist())\n",
        "\n",
        "# Drop only if 'Description' exists\n",
        "if \"Description\" in df_fd_pd.columns:\n",
        "    start = time.time()\n",
        "    df_fd_pd.drop(columns=[\"Description\"], inplace=True)\n",
        "    print(\"Column 'Description' dropped in\", time.time() - start, \"seconds\")\n",
        "else:\n",
        "    print(\"'Description' column not found — skipping drop step.\")\n",
        "\n"
      ],
      "metadata": {
        "colab": {
          "base_uri": "https://localhost:8080/"
        },
        "id": "3e5cSElQCAvv",
        "outputId": "860c6471-b5b0-4ae5-fb21-22290efb13e0"
      },
      "id": "3e5cSElQCAvv",
      "execution_count": 17,
      "outputs": [
        {
          "output_type": "stream",
          "name": "stdout",
          "text": [
            "Available columns: ['InvoiceNo', 'StockCode', 'Quantity', 'InvoiceDate', 'UnitPrice', 'CustomerID', 'Country', 'FakeColumn']\n",
            "'Description' column not found — skipping drop step.\n"
          ]
        }
      ]
    },
    {
      "cell_type": "code",
      "source": [
        "print(\"Columns in df_fd_pd:\", df_fd_pd.columns.tolist())\n"
      ],
      "metadata": {
        "colab": {
          "base_uri": "https://localhost:8080/"
        },
        "id": "g1l1NsGOCkEk",
        "outputId": "dd9d3a25-4a9c-44df-e2c2-5946df236fbd"
      },
      "id": "g1l1NsGOCkEk",
      "execution_count": 21,
      "outputs": [
        {
          "output_type": "stream",
          "name": "stdout",
          "text": [
            "Columns in df_fd_pd: ['InvoiceNo', 'StockCode', 'Quantity', 'InvoiceDate', 'UnitPrice', 'CustomerID', 'Country', 'FakeColumn']\n"
          ]
        }
      ]
    },
    {
      "cell_type": "code",
      "source": [
        "start = time.time()\n",
        "df_fd_pd.drop(columns=[\"FakeColumn\"], inplace=True)  # or choose any column you want\n",
        "print(\"Columns Dropped in\", time.time() - start, \"seconds\")\n"
      ],
      "metadata": {
        "colab": {
          "base_uri": "https://localhost:8080/"
        },
        "id": "lqjKPjlRC2TI",
        "outputId": "d4d56883-54ea-47f7-d7cd-f1b0dc7cd46c"
      },
      "id": "lqjKPjlRC2TI",
      "execution_count": 22,
      "outputs": [
        {
          "output_type": "stream",
          "name": "stdout",
          "text": [
            "Columns Dropped in 0.007134914398193359 seconds\n"
          ]
        }
      ]
    },
    {
      "cell_type": "markdown",
      "metadata": {
        "id": "0VZTvbEE7Sbi"
      },
      "source": [
        "## Sorting"
      ],
      "id": "0VZTvbEE7Sbi"
    },
    {
      "cell_type": "code",
      "execution_count": 23,
      "metadata": {
        "id": "rB_6wp2f7Sbj",
        "colab": {
          "base_uri": "https://localhost:8080/"
        },
        "outputId": "fffbbccc-c3ef-4180-89d2-af7b781cfa5c"
      },
      "outputs": [
        {
          "output_type": "stream",
          "name": "stdout",
          "text": [
            "Sorting Completed in 0.06834578514099121 seconds\n"
          ]
        }
      ],
      "source": [
        "start = time.time()\n",
        "df_fd_pd = df_fd_pd.sort_values(by=[\"InvoiceDate\"])\n",
        "print(\"Sorting Completed in\", time.time() - start, \"seconds\")"
      ],
      "id": "rB_6wp2f7Sbj"
    },
    {
      "cell_type": "markdown",
      "metadata": {
        "id": "ok9NfslT7Sbj"
      },
      "source": [
        "## Grouping and Aggregation"
      ],
      "id": "ok9NfslT7Sbj"
    },
    {
      "cell_type": "code",
      "execution_count": 24,
      "metadata": {
        "id": "HC3F3G3B7Sbj",
        "colab": {
          "base_uri": "https://localhost:8080/"
        },
        "outputId": "90ca7655-3ac4-4dc3-ecc8-96dc1c472d85"
      },
      "outputs": [
        {
          "output_type": "stream",
          "name": "stdout",
          "text": [
            "Grouping Completed in 0.006224393844604492 seconds\n"
          ]
        }
      ],
      "source": [
        "start = time.time()\n",
        "df_fd_pd_grouped = df_fd_pd.groupby(\"Country\")[\"Quantity\"].sum()\n",
        "print(\"Grouping Completed in\", time.time() - start, \"seconds\")"
      ],
      "id": "HC3F3G3B7Sbj"
    },
    {
      "cell_type": "markdown",
      "metadata": {
        "id": "9L7N5I047Sbj"
      },
      "source": [
        "## Fake Data Generation"
      ],
      "id": "9L7N5I047Sbj"
    },
    {
      "cell_type": "code",
      "execution_count": 25,
      "metadata": {
        "id": "ZNwduL5q7Sbj",
        "colab": {
          "base_uri": "https://localhost:8080/"
        },
        "outputId": "8a1d145b-61f3-4308-c53f-5a03d039cca9"
      },
      "outputs": [
        {
          "output_type": "stream",
          "name": "stdout",
          "text": [
            "Fake Data Generated in 0.0020291805267333984 seconds\n"
          ]
        }
      ],
      "source": [
        "start = time.time()\n",
        "df_fd_pd[\"FakeColumn\"] = np.random.randint(1, 100, df_fd_pd.shape[0])\n",
        "print(\"Fake Data Generated in\", time.time() - start, \"seconds\")"
      ],
      "id": "ZNwduL5q7Sbj"
    },
    {
      "cell_type": "markdown",
      "metadata": {
        "id": "l3UwDWnb7Sbj"
      },
      "source": [
        "## String Transformation"
      ],
      "id": "l3UwDWnb7Sbj"
    },
    {
      "cell_type": "code",
      "execution_count": 26,
      "metadata": {
        "id": "1-hRArbK7Sbj",
        "colab": {
          "base_uri": "https://localhost:8080/"
        },
        "outputId": "d919e71b-583c-499f-c483-a38ceb4ce2a1"
      },
      "outputs": [
        {
          "output_type": "stream",
          "name": "stdout",
          "text": [
            "String Transformation Completed in 0.008248090744018555 seconds\n"
          ]
        }
      ],
      "source": [
        "start = time.time()\n",
        "df_fd_pd[\"InvoiceNo\"] = df_fd_pd[\"InvoiceNo\"].astype(str) + \"_FD\"\n",
        "print(\"String Transformation Completed in\", time.time() - start, \"seconds\")"
      ],
      "id": "1-hRArbK7Sbj"
    }
  ],
  "metadata": {
    "kernelspec": {
      "display_name": "Python 3",
      "language": "python",
      "name": "python3"
    },
    "language_info": {
      "name": "python",
      "version": ""
    },
    "colab": {
      "provenance": []
    }
  },
  "nbformat": 4,
  "nbformat_minor": 5
}