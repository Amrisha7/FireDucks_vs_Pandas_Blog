{
 "cells": [
  {
   "cell_type": "markdown",
   "metadata": {},
   "source": [
    "# 🔥 FireDucks vs Pandas Performance Benchmark\n",
    "\n",
    "## 📦 Installation Commands (Required Libraries)"
   ]
  },
  {
   "cell_type": "code",
   "execution_count": null,
   "metadata": {},
   "outputs": [],
   "source": [
    "!pip install fireducks pandas matplotlib numpy duckdb"
   ]
  },
  {
   "cell_type": "markdown",
   "metadata": {},
   "source": [
    "## ⚙️ Enable Benchmark Mode (FireDucks)"
   ]
  },
  {
   "cell_type": "code",
   "execution_count": null,
   "metadata": {},
   "outputs": [],
   "source": [
    "FIREDUCKS_FLAGS = \"--benchmark-mode\""
   ]
  },
  {
   "cell_type": "markdown",
   "metadata": {},
   "source": [
    "## 📊 Generate Large Dataset (10 Million Records)"
   ]
  },
  {
   "cell_type": "code",
   "execution_count": null,
   "metadata": {},
   "outputs": [],
   "source": [
    "import pandas as pd\n",
    "import numpy as np\n",
    "\n",
    "# Generating a large synthetic dataset\n",
    "df = pd.DataFrame({\n",
    "    'user_id': np.random.randint(1, 1_000_000, 10_000_000),\n",
    "    'purchase_amt': np.random.rand(10_000_000) * 1200,  # up to 1200\n",
    "    'category': np.random.choice(['tech', 'food', 'fashion', 'travel'], size=10_000_000),\n",
    "    'datetime': pd.date_range(start='2022-01-01', periods=10_000_000, freq='s')\n",
    "})\n",
    "\n",
    "# Save to CSV for benchmarking\n",
    "df.to_csv('big_dataset.csv', index=False)\n",
    "\n",
    "print(\"✔️ Dataset Created Successfully!\")"
   ]
  },
  {
   "cell_type": "markdown",
   "metadata": {},
   "source": [
    "## ⏱️ Benchmarking Read Time (Pandas vs FireDucks)"
   ]
  },
  {
   "cell_type": "code",
   "execution_count": null,
   "metadata": {},
   "outputs": [],
   "source": [
    "import time\n",
    "\n",
    "# Pandas Read\n",
    "start = time.time()\n",
    "pdf = pd.read_csv('big_dataset.csv')\n",
    "print(pdf.head())\n",
    "print(\"⏱️ Pandas Load Time:\", round(time.time() - start, 2), \"seconds\")\n",
    "\n",
    "# FireDucks Read\n",
    "import fireducks.pandas as fd\n",
    "start = time.time()\n",
    "fdf = fd.read_csv('big_dataset.csv')\n",
    "print(fdf.head())\n",
    "print(\"⏱️ FireDucks Load Time:\", round(time.time() - start, 2), \"seconds\")"
   ]
  },
  {
   "cell_type": "markdown",
   "metadata": {},
   "source": [
    "## 📈 GroupBy Operation (Mean Purchase by Category)"
   ]
  },
  {
   "cell_type": "code",
   "execution_count": null,
   "metadata": {},
   "outputs": [],
   "source": [
    "# Grouping in Pandas\n",
    "start = time.time()\n",
    "pdf_group = pdf.groupby('category')['purchase_amt'].mean().reset_index()\n",
    "print(pdf_group)\n",
    "print(\"Pandas GroupBy Time:\", round(time.time() - start, 2))\n",
    "\n",
    "# Grouping in FireDucks\n",
    "start = time.time()\n",
    "fdf_group = fdf.groupby('category')['purchase_amt'].mean().reset_index()\n",
    "print(fdf_group)\n",
    "print(\"FireDucks GroupBy Time:\", round(time.time() - start, 2))"
   ]
  },
  {
   "cell_type": "markdown",
   "metadata": {},
   "source": [
    "## 🔍 Filtering + GroupBy (Amount > 600)"
   ]
  },
  {
   "cell_type": "code",
   "execution_count": null,
   "metadata": {},
   "outputs": [],
   "source": [
    "# Pandas\n",
    "start = time.time()\n",
    "pdf_filt_group = pdf[pdf['purchase_amt'] > 600].groupby('category')['purchase_amt'].mean().reset_index()\n",
    "print(pdf_filt_group)\n",
    "print(\"Pandas Filter+GroupBy Time:\", round(time.time() - start, 2))\n",
    "\n",
    "# FireDucks\n",
    "start = time.time()\n",
    "fdf_filt_group = fdf[fdf['purchase_amt'] > 600].groupby('category')['purchase_amt'].mean().reset_index()\n",
    "print(fdf_filt_group)\n",
    "print(\"FireDucks Filter+GroupBy Time:\", round(time.time() - start, 2))"
   ]
  },
  {
   "cell_type": "markdown",
   "metadata": {},
   "source": [
    "## 🏆 Top 5 Highest Purchases per Category (Sort + Group)"
   ]
  },
  {
   "cell_type": "code",
   "execution_count": null,
   "metadata": {},
   "outputs": [],
   "source": [
    "# Sorting in Pandas\n",
    "start = time.time()\n",
    "pdf_sorted = pdf.sort_values(by='purchase_amt', ascending=False).groupby('category').head(5)\n",
    "print(\"Pandas Sort Time:\", round(time.time() - start, 2))\n",
    "\n",
    "# Sorting in FireDucks\n",
    "start = time.time()\n",
    "fdf_sorted = fdf.sort_values(by='purchase_amt', ascending=False).groupby('category').head(5)\n",
    "print(\"FireDucks Sort Time:\", round(time.time() - start, 2))"
   ]
  },
  {
   "cell_type": "markdown",
   "metadata": {},
   "source": [
    "## 📊 Benchmark Visualization (Bar Chart)"
   ]
  },
  {
   "cell_type": "code",
   "execution_count": null,
   "metadata": {},
   "outputs": [],
   "source": [
    "import matplotlib.pyplot as plt\n",
    "\n",
    "# Labels\n",
    "operations = ['CSV Load', 'GroupBy', 'Filter+GroupBy', 'Sort']\n",
    "\n",
    "# Simulated Execution Times (example values)\n",
    "pandas_times = [10.1, 0.83, 1.49, 15.3]\n",
    "fireducks_times = [3.7, 0.25, 0.45, 8.1]\n",
    "\n",
    "x = range(len(operations))\n",
    "plt.figure(figsize=(10, 6))\n",
    "plt.bar(x, pandas_times, width=0.35, label='Pandas', color='salmon')\n",
    "plt.bar([i + 0.35 for i in x], fireducks_times, width=0.35, label='FireDucks', color='seagreen')\n",
    "\n",
    "plt.xlabel('Operations')\n",
    "plt.ylabel('Time (seconds)')\n",
    "plt.title('Performance Comparison: Pandas vs FireDucks')\n",
    "plt.xticks([i + 0.175 for i in x], operations)\n",
    "plt.legend()\n",
    "plt.grid(axis='y', linestyle='--', alpha=0.6)\n",
    "plt.tight_layout()\n",
    "plt.show()"
   ]
  }
 ],
 "metadata": {
  "kernelspec": {
   "display_name": "Python 3",
   "language": "python",
   "name": "python3"
  },
  "language_info": {
   "name": "python",
   "version": ""
  }
 },
 "nbformat": 4,
 "nbformat_minor": 5
}

![FireDucks vs Pandas Performance](assets/fireducks_vs_pandas_chart.png)
