{
  "fireducks_operations": [
    {
      "step": 1,
      "title": "Install FireDucks",
      "description": "Installed FireDucks and its dependencies using pip.",
      "command": "!pip install fireducks",
      "time_taken": "N/A"
    },
    {
      "step": 2,
      "title": "Load Data Using FireDucks",
      "description": "Loaded CSV file using fpd.pandas.read_csv with ISO-8859-1 encoding.",
      "command": "df_fd = fpd.pandas.read_csv(path, encoding='ISO-8859-1')",
      "time_taken": 0.026114463806152344
    },
    {
      "step": 3,
      "title": "Convert to Pandas",
      "description": "Converted FireDucks dataframe to Pandas dataframe for further manipulations.",
      "command": "df_fd_pd = df_fd.to_pandas()",
      "time_taken": "N/A"
    },
    {
      "step": 4,
      "title": "Expand Dataset",
      "description": "Duplicated the dataframe to simulate a larger dataset.",
      "command": "df_fd_pd = pd.concat([df_fd_pd] * 2)",
      "time_taken": 0.005506038665771484
    },
    {
      "step": 5,
      "title": "Drop Unnecessary Columns - Description",
      "description": "Dropped 'Description' column if it exists.",
      "command": "df_fd_pd.drop(columns=['Description'], inplace=True)",
      "time_taken": "Skipped - Column not found"
    },
    {
      "step": 6,
      "title": "Drop Unnecessary Columns - FakeColumn",
      "description": "Dropped 'FakeColumn' column from the dataframe.",
      "command": "df_fd_pd.drop(columns=['FakeColumn'], inplace=True)",
      "time_taken": 0.007134914398193359
    },
    {
      "step": 7,
      "title": "Sort by InvoiceDate",
      "description": "Sorted dataframe by 'InvoiceDate'.",
      "command": "df_fd_pd = df_fd_pd.sort_values(by=['InvoiceDate'])",
      "time_taken": 0.06834578514099121
    },
    {
      "step": 8,
      "title": "Group by Country",
      "description": "Grouped by 'Country' and aggregated sum of 'Quantity'.",
      "command": "df_fd_pd_grouped = df_fd_pd.groupby('Country')['Quantity'].sum()",
      "time_taken": 0.006224393844604492
    },
    {
      "step": 9,
      "title": "Generate Fake Column",
      "description": "Generated a new column with random integers.",
      "command": "df_fd_pd['FakeColumn'] = np.random.randint(1, 100, df_fd_pd.shape[0])",
      "time_taken": 0.0020291805267333984
    },
    {
      "step": 10,
      "title": "String Transformation - InvoiceNo",
      "description": "Transformed 'InvoiceNo' column by appending '_FD'.",
      "command": "df_fd_pd['InvoiceNo'] = df_fd_pd['InvoiceNo'].astype(str) + '_FD'",
      "time_taken": 0.008248090744018555
    }
  ]
}
